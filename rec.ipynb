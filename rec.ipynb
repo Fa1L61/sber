{
 "cells": [
  {
   "cell_type": "code",
   "execution_count": 5,
   "id": "f0fd388a-501f-4ace-815a-6fa1f33871e5",
   "metadata": {},
   "outputs": [
    {
     "name": "stdout",
     "output_type": "stream",
     "text": [
      "Скажите что-нибудь:\n",
      "Вы сказали: Я тебя люблю\n"
     ]
    }
   ],
   "source": [
    "import speech_recognition as sr\n",
    "\n",
    "rec = sr.Recognizer()\n",
    "\n",
    "with sr.Microphone() as source:\n",
    "    print(\"Скажите что-нибудь:\")\n",
    "    audio = rec.listen(source)\n",
    "\n",
    "try:\n",
    "    text = rec.recognize_google(audio, language=\"ru-RU\")\n",
    "    print(\"Вы сказали: \" + text)\n",
    "except sr.UnknownValueError:\n",
    "    print(\"Извините, не удалось распознать речь\")\n",
    "except sr.RequestError as ex:\n",
    "    print(\"Ошибка сервиса распознавания речи; {0}\".format(ex))\n",
    "    "
   ]
  },
  {
   "cell_type": "code",
   "execution_count": null,
   "id": "75668835-6133-45d7-9fd1-1bb91cc06f7f",
   "metadata": {},
   "outputs": [],
   "source": []
  }
 ],
 "metadata": {
  "kernelspec": {
   "display_name": "Python 3 (ipykernel)",
   "language": "python",
   "name": "python3"
  },
  "language_info": {
   "codemirror_mode": {
    "name": "ipython",
    "version": 3
   },
   "file_extension": ".py",
   "mimetype": "text/x-python",
   "name": "python",
   "nbconvert_exporter": "python",
   "pygments_lexer": "ipython3",
   "version": "3.11.4"
  }
 },
 "nbformat": 4,
 "nbformat_minor": 5
}
